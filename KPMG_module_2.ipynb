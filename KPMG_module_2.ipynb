{
  "nbformat": 4,
  "nbformat_minor": 0,
  "metadata": {
    "colab": {
      "name": "KPMG_module_2.ipynb",
      "provenance": []
    },
    "kernelspec": {
      "name": "python3",
      "display_name": "Python 3"
    }
  },
  "cells": [
    {
      "cell_type": "code",
      "metadata": {
        "id": "Q2Z7hsdCXAHS",
        "colab_type": "code",
        "colab": {}
      },
      "source": [
        "#Get all packages needed\n",
        "import pandas as pd\n",
        "import numpy as np\n",
        "import datetime\n",
        "from matplotlib.ticker import FuncFormatter\n",
        "import matplotlib.pyplot as plt\n",
        "import warnings\n",
        "import math as ma\n",
        "warnings.filterwarnings(\"ignore\")"
      ],
      "execution_count": 1,
      "outputs": []
    },
    {
      "cell_type": "code",
      "metadata": {
        "id": "gTuCKFy1XGbY",
        "colab_type": "code",
        "colab": {
          "base_uri": "https://localhost:8080/",
          "height": 122
        },
        "outputId": "dba99eb8-a14c-49eb-f3c1-547da49d194c"
      },
      "source": [
        "xls = pd.ExcelFile('/KPMG_final.xlsx')\n",
        "df = pd.read_excel(xls, 'CustomerDemographic')\n",
        "#list(df)\n",
        "df.columns"
      ],
      "execution_count": 4,
      "outputs": [
        {
          "output_type": "execute_result",
          "data": {
            "text/plain": [
              "Index(['Note: The data and information in this document is reflective of a hypothetical situation and client. This document is to be used for KPMG Virtual Internship purposes only. ',\n",
              "       'Unnamed: 1', 'Unnamed: 2', 'Unnamed: 3', 'Unnamed: 4', 'Unnamed: 5',\n",
              "       'Unnamed: 6', 'Unnamed: 7', 'Unnamed: 8', 'Unnamed: 9', 'Unnamed: 10',\n",
              "       'Unnamed: 11', 'Unnamed: 12'],\n",
              "      dtype='object')"
            ]
          },
          "metadata": {
            "tags": []
          },
          "execution_count": 4
        }
      ]
    },
    {
      "cell_type": "code",
      "metadata": {
        "id": "Lo_J6_AYXsRI",
        "colab_type": "code",
        "colab": {
          "base_uri": "https://localhost:8080/",
          "height": 762
        },
        "outputId": "6a052f6b-cb96-4ba3-e705-a05481fcd3f1"
      },
      "source": [
        "df.rename(columns={\"Note: The data and information in this document is reflective of a hypothetical situation and client. This document is to be used for KPMG Virtual Internship purposes only. \":\"customer_id\"}, inplace = True)\n",
        "df.rename(columns={\"Unnamed: 1\":\"fname\",\n",
        "                   \"Unnamed: 2\":\"lname\",\n",
        "                   \"Unnamed: 3\":\"gender\",\n",
        "                   \"Unnamed: 4\":\"3y_bike_purchases\",\n",
        "                   \"Unnamed: 5\":\"DOB\",\n",
        "                   \"Unnamed: 6\":\"JT\"}, inplace = True)\n",
        "df.rename(columns={\"Unnamed: 7\":\"Category\",\n",
        "                   \"Unnamed: 8\":\"wealth_segement\",\n",
        "                   \"Unnamed: 9\":\"D_Indicator\",\n",
        "                   \"Unnamed: 10\":\"default\",\n",
        "                   \"Unnamed: 11\":\"owns_car\",\n",
        "                   \"Unnamed: 12\":\"tencure\"}, inplace = True)\n",
        "df=df.iloc[1:]\n",
        "df"
      ],
      "execution_count": 5,
      "outputs": [
        {
          "output_type": "execute_result",
          "data": {
            "text/html": [
              "<div>\n",
              "<style scoped>\n",
              "    .dataframe tbody tr th:only-of-type {\n",
              "        vertical-align: middle;\n",
              "    }\n",
              "\n",
              "    .dataframe tbody tr th {\n",
              "        vertical-align: top;\n",
              "    }\n",
              "\n",
              "    .dataframe thead th {\n",
              "        text-align: right;\n",
              "    }\n",
              "</style>\n",
              "<table border=\"1\" class=\"dataframe\">\n",
              "  <thead>\n",
              "    <tr style=\"text-align: right;\">\n",
              "      <th></th>\n",
              "      <th>customer_id</th>\n",
              "      <th>fname</th>\n",
              "      <th>lname</th>\n",
              "      <th>gender</th>\n",
              "      <th>3y_bike_purchases</th>\n",
              "      <th>DOB</th>\n",
              "      <th>JT</th>\n",
              "      <th>Category</th>\n",
              "      <th>wealth_segement</th>\n",
              "      <th>D_Indicator</th>\n",
              "      <th>default</th>\n",
              "      <th>owns_car</th>\n",
              "      <th>tencure</th>\n",
              "    </tr>\n",
              "  </thead>\n",
              "  <tbody>\n",
              "    <tr>\n",
              "      <th>1</th>\n",
              "      <td>1</td>\n",
              "      <td>Laraine</td>\n",
              "      <td>Medendorp</td>\n",
              "      <td>F</td>\n",
              "      <td>93</td>\n",
              "      <td>1953-10-12 00:00:00</td>\n",
              "      <td>Executive Secretary</td>\n",
              "      <td>Health</td>\n",
              "      <td>Mass Customer</td>\n",
              "      <td>N</td>\n",
              "      <td>\"'</td>\n",
              "      <td>Yes</td>\n",
              "      <td>11</td>\n",
              "    </tr>\n",
              "    <tr>\n",
              "      <th>2</th>\n",
              "      <td>2</td>\n",
              "      <td>Eli</td>\n",
              "      <td>Bockman</td>\n",
              "      <td>Male</td>\n",
              "      <td>81</td>\n",
              "      <td>1980-12-16 00:00:00</td>\n",
              "      <td>Administrative Officer</td>\n",
              "      <td>Financial Services</td>\n",
              "      <td>Mass Customer</td>\n",
              "      <td>N</td>\n",
              "      <td>&lt;script&gt;alert('hi')&lt;/script&gt;</td>\n",
              "      <td>Yes</td>\n",
              "      <td>16</td>\n",
              "    </tr>\n",
              "    <tr>\n",
              "      <th>3</th>\n",
              "      <td>3</td>\n",
              "      <td>Arlin</td>\n",
              "      <td>Dearle</td>\n",
              "      <td>Male</td>\n",
              "      <td>61</td>\n",
              "      <td>1954-01-20 00:00:00</td>\n",
              "      <td>Recruiting Manager</td>\n",
              "      <td>Property</td>\n",
              "      <td>Mass Customer</td>\n",
              "      <td>N</td>\n",
              "      <td>2018-02-01 00:00:00</td>\n",
              "      <td>Yes</td>\n",
              "      <td>15</td>\n",
              "    </tr>\n",
              "    <tr>\n",
              "      <th>4</th>\n",
              "      <td>4</td>\n",
              "      <td>Talbot</td>\n",
              "      <td>NaN</td>\n",
              "      <td>Male</td>\n",
              "      <td>33</td>\n",
              "      <td>1961-10-03 00:00:00</td>\n",
              "      <td>NaN</td>\n",
              "      <td>IT</td>\n",
              "      <td>Mass Customer</td>\n",
              "      <td>N</td>\n",
              "      <td>() { _; } &gt;_[$($())] { touch /tmp/blns.shellsh...</td>\n",
              "      <td>No</td>\n",
              "      <td>7</td>\n",
              "    </tr>\n",
              "    <tr>\n",
              "      <th>5</th>\n",
              "      <td>5</td>\n",
              "      <td>Sheila-kathryn</td>\n",
              "      <td>Calton</td>\n",
              "      <td>Female</td>\n",
              "      <td>56</td>\n",
              "      <td>1977-05-13 00:00:00</td>\n",
              "      <td>Senior Editor</td>\n",
              "      <td>NaN</td>\n",
              "      <td>Affluent Customer</td>\n",
              "      <td>N</td>\n",
              "      <td>NIL</td>\n",
              "      <td>Yes</td>\n",
              "      <td>8</td>\n",
              "    </tr>\n",
              "    <tr>\n",
              "      <th>...</th>\n",
              "      <td>...</td>\n",
              "      <td>...</td>\n",
              "      <td>...</td>\n",
              "      <td>...</td>\n",
              "      <td>...</td>\n",
              "      <td>...</td>\n",
              "      <td>...</td>\n",
              "      <td>...</td>\n",
              "      <td>...</td>\n",
              "      <td>...</td>\n",
              "      <td>...</td>\n",
              "      <td>...</td>\n",
              "      <td>...</td>\n",
              "    </tr>\n",
              "    <tr>\n",
              "      <th>3996</th>\n",
              "      <td>3996</td>\n",
              "      <td>Rosalia</td>\n",
              "      <td>Halgarth</td>\n",
              "      <td>Female</td>\n",
              "      <td>8</td>\n",
              "      <td>1975-08-09 00:00:00</td>\n",
              "      <td>VP Product Management</td>\n",
              "      <td>Health</td>\n",
              "      <td>Mass Customer</td>\n",
              "      <td>N</td>\n",
              "      <td>-100</td>\n",
              "      <td>No</td>\n",
              "      <td>19</td>\n",
              "    </tr>\n",
              "    <tr>\n",
              "      <th>3997</th>\n",
              "      <td>3997</td>\n",
              "      <td>Blanch</td>\n",
              "      <td>Nisuis</td>\n",
              "      <td>Female</td>\n",
              "      <td>87</td>\n",
              "      <td>2001-07-13 00:00:00</td>\n",
              "      <td>Statistician II</td>\n",
              "      <td>Manufacturing</td>\n",
              "      <td>High Net Worth</td>\n",
              "      <td>N</td>\n",
              "      <td>â¦testâ§</td>\n",
              "      <td>Yes</td>\n",
              "      <td>1</td>\n",
              "    </tr>\n",
              "    <tr>\n",
              "      <th>3998</th>\n",
              "      <td>3998</td>\n",
              "      <td>Sarene</td>\n",
              "      <td>Woolley</td>\n",
              "      <td>U</td>\n",
              "      <td>60</td>\n",
              "      <td>NaN</td>\n",
              "      <td>Assistant Manager</td>\n",
              "      <td>IT</td>\n",
              "      <td>High Net Worth</td>\n",
              "      <td>N</td>\n",
              "      <td>NaN</td>\n",
              "      <td>No</td>\n",
              "      <td>NaN</td>\n",
              "    </tr>\n",
              "    <tr>\n",
              "      <th>3999</th>\n",
              "      <td>3999</td>\n",
              "      <td>Patrizius</td>\n",
              "      <td>NaN</td>\n",
              "      <td>Male</td>\n",
              "      <td>11</td>\n",
              "      <td>1973-10-24 00:00:00</td>\n",
              "      <td>NaN</td>\n",
              "      <td>Manufacturing</td>\n",
              "      <td>Affluent Customer</td>\n",
              "      <td>N</td>\n",
              "      <td>Â¡â¢Â£Â¢âÂ§Â¶â¢ÂªÂºââ</td>\n",
              "      <td>Yes</td>\n",
              "      <td>10</td>\n",
              "    </tr>\n",
              "    <tr>\n",
              "      <th>4000</th>\n",
              "      <td>4000</td>\n",
              "      <td>Kippy</td>\n",
              "      <td>Oldland</td>\n",
              "      <td>Male</td>\n",
              "      <td>76</td>\n",
              "      <td>1991-11-05 00:00:00</td>\n",
              "      <td>Software Engineer IV</td>\n",
              "      <td>NaN</td>\n",
              "      <td>Affluent Customer</td>\n",
              "      <td>N</td>\n",
              "      <td>0/0</td>\n",
              "      <td>No</td>\n",
              "      <td>11</td>\n",
              "    </tr>\n",
              "  </tbody>\n",
              "</table>\n",
              "<p>4000 rows × 13 columns</p>\n",
              "</div>"
            ],
            "text/plain": [
              "     customer_id           fname  ... owns_car tencure\n",
              "1              1         Laraine  ...      Yes      11\n",
              "2              2             Eli  ...      Yes      16\n",
              "3              3           Arlin  ...      Yes      15\n",
              "4              4          Talbot  ...       No       7\n",
              "5              5  Sheila-kathryn  ...      Yes       8\n",
              "...          ...             ...  ...      ...     ...\n",
              "3996        3996         Rosalia  ...       No      19\n",
              "3997        3997          Blanch  ...      Yes       1\n",
              "3998        3998          Sarene  ...       No     NaN\n",
              "3999        3999       Patrizius  ...      Yes      10\n",
              "4000        4000           Kippy  ...       No      11\n",
              "\n",
              "[4000 rows x 13 columns]"
            ]
          },
          "metadata": {
            "tags": []
          },
          "execution_count": 5
        }
      ]
    },
    {
      "cell_type": "code",
      "metadata": {
        "id": "h3aUVCeaYFXu",
        "colab_type": "code",
        "colab": {
          "base_uri": "https://localhost:8080/",
          "height": 34
        },
        "outputId": "b37c91aa-3048-4e27-a4c5-5805dea81058"
      },
      "source": [
        "def check_NA():\n",
        "    ret = []\n",
        "    temp = list(df)\n",
        "    for each in temp:\n",
        "        ret.append(df[each].isna().sum())\n",
        "    return ret\n",
        "\n",
        "NaNlist = check_NA()\n",
        "print(NaNlist, len(NaNlist))\n",
        "# need to check columns\n",
        "check = []\n",
        "k     = -1\n",
        "for i in NaNlist:\n",
        "    k += 1\n",
        "    if i > 0:\n",
        "        check.append(k)\n",
        "def check_unique():\n",
        "    temp = list(df)\n",
        "    mydict = {}\n",
        "    for i in range(3, 13):\n",
        "        ct = 0\n",
        "        if NaNlist[i] > 0:\n",
        "            ct = len(df[temp[i]].unique()) - 1\n",
        "        else:\n",
        "            ct = len(df[temp[i]].unique())\n",
        "        mydict[temp[i]] = (ct, df[temp[i]].unique())\n",
        "    return mydict"
      ],
      "execution_count": 6,
      "outputs": [
        {
          "output_type": "stream",
          "text": [
            "[0, 0, 125, 0, 0, 87, 506, 656, 0, 0, 302, 0, 87] 13\n"
          ],
          "name": "stdout"
        }
      ]
    },
    {
      "cell_type": "code",
      "metadata": {
        "id": "EmLk0RykYIpV",
        "colab_type": "code",
        "colab": {
          "base_uri": "https://localhost:8080/",
          "height": 34
        },
        "outputId": "fac02952-e1ec-4d5e-d860-09f9f99ac90c"
      },
      "source": [
        "#Analyze the Gender vs Bikes bought\n",
        "#array(['F', 'Male', 'Female', 'U', 'Femal', 'M'] from KPMG_VI.py\n",
        "gender = [0,0,0] #first is Female, second if Male, third is Unknown\n",
        "for each in df['gender']:\n",
        "    if each[0] == \"F\":\n",
        "        gender[0] += 1\n",
        "    elif each[0] == \"M\":\n",
        "        gender[1] += 1\n",
        "    else:\n",
        "        gender[2] += 1\n",
        "\n",
        "print(gender)\n",
        "def gf(x, pos):\n",
        "    #'The two args are the value and gender'\n",
        "    return int(x)\n",
        "\n",
        "bike = [0,0,0]\n",
        "bike[0] += df['3y_bike_purchases'][df['gender'] == 'Female'].sum() + df['3y_bike_purchases'][df['gender'] == 'F'].sum()\n",
        "bike[1] += df['3y_bike_purchases'][df['gender'] == 'Male'].sum() + df['3y_bike_purchases'][df['gender'] == 'M'].sum()\n",
        "bike[2] += df['3y_bike_purchases'][df['gender'] == 'U'].sum()\n",
        "\n",
        "grapho = [gender[0], bike[0], gender[1], bike[1], gender[2], bike[2]]\n",
        "graphl = [gender[0]*10, bike[0], gender[1]*10, bike[1], gender[2]*10, bike[2]]\n",
        "colorr = (0.3,0.1,0.4,0.6)"
      ],
      "execution_count": 7,
      "outputs": [
        {
          "output_type": "stream",
          "text": [
            "[2039, 1873, 88]\n"
          ],
          "name": "stdout"
        }
      ]
    },
    {
      "cell_type": "code",
      "metadata": {
        "id": "FNcr24ohYMNN",
        "colab_type": "code",
        "colab": {
          "base_uri": "https://localhost:8080/",
          "height": 469
        },
        "outputId": "3f308492-9ef8-41da-eb3b-a4f9d908c488"
      },
      "source": [
        "formatter = FuncFormatter(gf)\n",
        "x = np.arange(6)\n",
        "fig, ax = plt.subplots()\n",
        "ax.set_ylabel('Number of people')\n",
        "ax.yaxis.set_major_formatter(formatter)\n",
        "plt.bar(x, graphl, color = colorr)\n",
        "for i in range(len(gender*2)):\n",
        "    plt.text(x = i-0.2, y = graphl[i]+0.1, s = grapho[i], size = 10)\n",
        "\n",
        "plt.xticks(x, ('Female', \"F's P\", 'Male', \"M's P\", 'Unknown', \"U's P\"))"
      ],
      "execution_count": 8,
      "outputs": [
        {
          "output_type": "execute_result",
          "data": {
            "text/plain": [
              "([<matplotlib.axis.XTick at 0x7f684e3ee438>,\n",
              "  <matplotlib.axis.XTick at 0x7f684e3ee1d0>,\n",
              "  <matplotlib.axis.XTick at 0x7f684fdaea90>,\n",
              "  <matplotlib.axis.XTick at 0x7f684e1e3588>,\n",
              "  <matplotlib.axis.XTick at 0x7f684e1e3a20>,\n",
              "  <matplotlib.axis.XTick at 0x7f684e1e3d68>],\n",
              " [Text(0, 0, 'Female'),\n",
              "  Text(0, 0, \"F's P\"),\n",
              "  Text(0, 0, 'Male'),\n",
              "  Text(0, 0, \"M's P\"),\n",
              "  Text(0, 0, 'Unknown'),\n",
              "  Text(0, 0, \"U's P\")])"
            ]
          },
          "metadata": {
            "tags": []
          },
          "execution_count": 8
        },
        {
          "output_type": "display_data",
          "data": {
            "image/png": "[encoded data removed]",
            "text/plain": [
              "<Figure size 432x288 with 1 Axes>"
            ]
          },
          "metadata": {
            "tags": [],
            "needs_background": "light"
          }
        }
      ]
    },
    {
      "cell_type": "code",
      "metadata": {
        "id": "HMWnOK0CYQw9",
        "colab_type": "code",
        "colab": {
          "base_uri": "https://localhost:8080/",
          "height": 333
        },
        "outputId": "d7401499-2b31-446f-a5a1-3b3d1aad1ce3"
      },
      "source": [
        "avg  = [0,0,0]\n",
        "ss   = sum(bike)\n",
        "for i in range(len(avg)):\n",
        "    avg[i] += round(bike[i]/ss,3) \n",
        "\n",
        "x1 = np.arange(3)\n",
        "fig1, ax1 = plt.subplots()\n",
        "ax1.set_ylabel('Percentage bikes bought by gender')\n",
        "plt.bar(x1, avg, color = colorr)\n",
        "for i in range(len(avg)):\n",
        "    plt.text(x = i-0.15, y = avg[i], s = avg[i], size = 10)\n",
        "\n",
        "plt.xticks(x1, ('Female', 'Male', 'Unknown'))"
      ],
      "execution_count": 9,
      "outputs": [
        {
          "output_type": "execute_result",
          "data": {
            "text/plain": [
              "([<matplotlib.axis.XTick at 0x7f684e120ef0>,\n",
              "  <matplotlib.axis.XTick at 0x7f684e120eb8>,\n",
              "  <matplotlib.axis.XTick at 0x7f684e120b00>],\n",
              " [Text(0, 0, 'Female'), Text(0, 0, 'Male'), Text(0, 0, 'Unknown')])"
            ]
          },
          "metadata": {
            "tags": []
          },
          "execution_count": 9
        },
        {
          "output_type": "display_data",
          "data": {
            "image/png": "[encoded data removed]",
            "text/plain": [
              "<Figure size 432x288 with 1 Axes>"
            ]
          },
          "metadata": {
            "tags": [],
            "needs_background": "light"
          }
        }
      ]
    },
    {
      "cell_type": "code",
      "metadata": {
        "id": "nYXfI86EYUcN",
        "colab_type": "code",
        "colab": {
          "base_uri": "https://localhost:8080/",
          "height": 51
        },
        "outputId": "ecacc629-b454-4498-e1dc-fc8209c21f19"
      },
      "source": [
        "#Analyze on the age vs bikes bought\n",
        "#Needs to transform\n",
        "print(df[\"DOB\"][1].ctime().split(\" \")[4])\n",
        "df[\"Age\"] = 0\n",
        "lenn = len(df[\"DOB\"])\n",
        "k    = 0\n",
        "for i in range(1, lenn):\n",
        "    #type is date\n",
        "    if isinstance(df[\"DOB\"][i], datetime.date):\n",
        "        tl = len(df[\"DOB\"][i].ctime().split(\" \"))\n",
        "        df[\"Age\"][i] += int(2019 - int(df[\"DOB\"][i].ctime().split(\" \")[tl-1]))\n",
        "    #type is string\n",
        "    elif isinstance(df[\"DOB\"][i], str):\n",
        "        tl = len(df[\"DOB\"][i].split(\"-\"))\n",
        "        df[\"Age\"][i] += int(2019 - int(df[\"DOB\"][i].split(\"-\")[tl-1])) \n",
        "    #time is float: means it's nan value so do nothing\n",
        "print(k)"
      ],
      "execution_count": 11,
      "outputs": [
        {
          "output_type": "stream",
          "text": [
            "1953\n",
            "0\n"
          ],
          "name": "stdout"
        }
      ]
    },
    {
      "cell_type": "code",
      "metadata": {
        "id": "HA7AIpQIYW-d",
        "colab_type": "code",
        "colab": {
          "base_uri": "https://localhost:8080/",
          "height": 762
        },
        "outputId": "c33e2383-2828-4acb-e750-3872845d7ae8"
      },
      "source": [
        "df"
      ],
      "execution_count": 12,
      "outputs": [
        {
          "output_type": "execute_result",
          "data": {
            "text/html": [
              "<div>\n",
              "<style scoped>\n",
              "    .dataframe tbody tr th:only-of-type {\n",
              "        vertical-align: middle;\n",
              "    }\n",
              "\n",
              "    .dataframe tbody tr th {\n",
              "        vertical-align: top;\n",
              "    }\n",
              "\n",
              "    .dataframe thead th {\n",
              "        text-align: right;\n",
              "    }\n",
              "</style>\n",
              "<table border=\"1\" class=\"dataframe\">\n",
              "  <thead>\n",
              "    <tr style=\"text-align: right;\">\n",
              "      <th></th>\n",
              "      <th>customer_id</th>\n",
              "      <th>fname</th>\n",
              "      <th>lname</th>\n",
              "      <th>gender</th>\n",
              "      <th>3y_bike_purchases</th>\n",
              "      <th>DOB</th>\n",
              "      <th>JT</th>\n",
              "      <th>Category</th>\n",
              "      <th>wealth_segement</th>\n",
              "      <th>D_Indicator</th>\n",
              "      <th>default</th>\n",
              "      <th>owns_car</th>\n",
              "      <th>tencure</th>\n",
              "      <th>Age</th>\n",
              "    </tr>\n",
              "  </thead>\n",
              "  <tbody>\n",
              "    <tr>\n",
              "      <th>1</th>\n",
              "      <td>1</td>\n",
              "      <td>Laraine</td>\n",
              "      <td>Medendorp</td>\n",
              "      <td>F</td>\n",
              "      <td>93</td>\n",
              "      <td>1953-10-12 00:00:00</td>\n",
              "      <td>Executive Secretary</td>\n",
              "      <td>Health</td>\n",
              "      <td>Mass Customer</td>\n",
              "      <td>N</td>\n",
              "      <td>\"'</td>\n",
              "      <td>Yes</td>\n",
              "      <td>11</td>\n",
              "      <td>66</td>\n",
              "    </tr>\n",
              "    <tr>\n",
              "      <th>2</th>\n",
              "      <td>2</td>\n",
              "      <td>Eli</td>\n",
              "      <td>Bockman</td>\n",
              "      <td>Male</td>\n",
              "      <td>81</td>\n",
              "      <td>1980-12-16 00:00:00</td>\n",
              "      <td>Administrative Officer</td>\n",
              "      <td>Financial Services</td>\n",
              "      <td>Mass Customer</td>\n",
              "      <td>N</td>\n",
              "      <td>&lt;script&gt;alert('hi')&lt;/script&gt;</td>\n",
              "      <td>Yes</td>\n",
              "      <td>16</td>\n",
              "      <td>39</td>\n",
              "    </tr>\n",
              "    <tr>\n",
              "      <th>3</th>\n",
              "      <td>3</td>\n",
              "      <td>Arlin</td>\n",
              "      <td>Dearle</td>\n",
              "      <td>Male</td>\n",
              "      <td>61</td>\n",
              "      <td>1954-01-20 00:00:00</td>\n",
              "      <td>Recruiting Manager</td>\n",
              "      <td>Property</td>\n",
              "      <td>Mass Customer</td>\n",
              "      <td>N</td>\n",
              "      <td>2018-02-01 00:00:00</td>\n",
              "      <td>Yes</td>\n",
              "      <td>15</td>\n",
              "      <td>65</td>\n",
              "    </tr>\n",
              "    <tr>\n",
              "      <th>4</th>\n",
              "      <td>4</td>\n",
              "      <td>Talbot</td>\n",
              "      <td>NaN</td>\n",
              "      <td>Male</td>\n",
              "      <td>33</td>\n",
              "      <td>1961-10-03 00:00:00</td>\n",
              "      <td>NaN</td>\n",
              "      <td>IT</td>\n",
              "      <td>Mass Customer</td>\n",
              "      <td>N</td>\n",
              "      <td>() { _; } &gt;_[$($())] { touch /tmp/blns.shellsh...</td>\n",
              "      <td>No</td>\n",
              "      <td>7</td>\n",
              "      <td>58</td>\n",
              "    </tr>\n",
              "    <tr>\n",
              "      <th>5</th>\n",
              "      <td>5</td>\n",
              "      <td>Sheila-kathryn</td>\n",
              "      <td>Calton</td>\n",
              "      <td>Female</td>\n",
              "      <td>56</td>\n",
              "      <td>1977-05-13 00:00:00</td>\n",
              "      <td>Senior Editor</td>\n",
              "      <td>NaN</td>\n",
              "      <td>Affluent Customer</td>\n",
              "      <td>N</td>\n",
              "      <td>NIL</td>\n",
              "      <td>Yes</td>\n",
              "      <td>8</td>\n",
              "      <td>42</td>\n",
              "    </tr>\n",
              "    <tr>\n",
              "      <th>...</th>\n",
              "      <td>...</td>\n",
              "      <td>...</td>\n",
              "      <td>...</td>\n",
              "      <td>...</td>\n",
              "      <td>...</td>\n",
              "      <td>...</td>\n",
              "      <td>...</td>\n",
              "      <td>...</td>\n",
              "      <td>...</td>\n",
              "      <td>...</td>\n",
              "      <td>...</td>\n",
              "      <td>...</td>\n",
              "      <td>...</td>\n",
              "      <td>...</td>\n",
              "    </tr>\n",
              "    <tr>\n",
              "      <th>3996</th>\n",
              "      <td>3996</td>\n",
              "      <td>Rosalia</td>\n",
              "      <td>Halgarth</td>\n",
              "      <td>Female</td>\n",
              "      <td>8</td>\n",
              "      <td>1975-08-09 00:00:00</td>\n",
              "      <td>VP Product Management</td>\n",
              "      <td>Health</td>\n",
              "      <td>Mass Customer</td>\n",
              "      <td>N</td>\n",
              "      <td>-100</td>\n",
              "      <td>No</td>\n",
              "      <td>19</td>\n",
              "      <td>44</td>\n",
              "    </tr>\n",
              "    <tr>\n",
              "      <th>3997</th>\n",
              "      <td>3997</td>\n",
              "      <td>Blanch</td>\n",
              "      <td>Nisuis</td>\n",
              "      <td>Female</td>\n",
              "      <td>87</td>\n",
              "      <td>2001-07-13 00:00:00</td>\n",
              "      <td>Statistician II</td>\n",
              "      <td>Manufacturing</td>\n",
              "      <td>High Net Worth</td>\n",
              "      <td>N</td>\n",
              "      <td>â¦testâ§</td>\n",
              "      <td>Yes</td>\n",
              "      <td>1</td>\n",
              "      <td>18</td>\n",
              "    </tr>\n",
              "    <tr>\n",
              "      <th>3998</th>\n",
              "      <td>3998</td>\n",
              "      <td>Sarene</td>\n",
              "      <td>Woolley</td>\n",
              "      <td>U</td>\n",
              "      <td>60</td>\n",
              "      <td>NaN</td>\n",
              "      <td>Assistant Manager</td>\n",
              "      <td>IT</td>\n",
              "      <td>High Net Worth</td>\n",
              "      <td>N</td>\n",
              "      <td>NaN</td>\n",
              "      <td>No</td>\n",
              "      <td>NaN</td>\n",
              "      <td>0</td>\n",
              "    </tr>\n",
              "    <tr>\n",
              "      <th>3999</th>\n",
              "      <td>3999</td>\n",
              "      <td>Patrizius</td>\n",
              "      <td>NaN</td>\n",
              "      <td>Male</td>\n",
              "      <td>11</td>\n",
              "      <td>1973-10-24 00:00:00</td>\n",
              "      <td>NaN</td>\n",
              "      <td>Manufacturing</td>\n",
              "      <td>Affluent Customer</td>\n",
              "      <td>N</td>\n",
              "      <td>Â¡â¢Â£Â¢âÂ§Â¶â¢ÂªÂºââ</td>\n",
              "      <td>Yes</td>\n",
              "      <td>10</td>\n",
              "      <td>46</td>\n",
              "    </tr>\n",
              "    <tr>\n",
              "      <th>4000</th>\n",
              "      <td>4000</td>\n",
              "      <td>Kippy</td>\n",
              "      <td>Oldland</td>\n",
              "      <td>Male</td>\n",
              "      <td>76</td>\n",
              "      <td>1991-11-05 00:00:00</td>\n",
              "      <td>Software Engineer IV</td>\n",
              "      <td>NaN</td>\n",
              "      <td>Affluent Customer</td>\n",
              "      <td>N</td>\n",
              "      <td>0/0</td>\n",
              "      <td>No</td>\n",
              "      <td>11</td>\n",
              "      <td>0</td>\n",
              "    </tr>\n",
              "  </tbody>\n",
              "</table>\n",
              "<p>4000 rows × 14 columns</p>\n",
              "</div>"
            ],
            "text/plain": [
              "     customer_id           fname      lname  ... owns_car tencure Age\n",
              "1              1         Laraine  Medendorp  ...      Yes      11  66\n",
              "2              2             Eli    Bockman  ...      Yes      16  39\n",
              "3              3           Arlin     Dearle  ...      Yes      15  65\n",
              "4              4          Talbot        NaN  ...       No       7  58\n",
              "5              5  Sheila-kathryn     Calton  ...      Yes       8  42\n",
              "...          ...             ...        ...  ...      ...     ...  ..\n",
              "3996        3996         Rosalia   Halgarth  ...       No      19  44\n",
              "3997        3997          Blanch     Nisuis  ...      Yes       1  18\n",
              "3998        3998          Sarene    Woolley  ...       No     NaN   0\n",
              "3999        3999       Patrizius        NaN  ...      Yes      10  46\n",
              "4000        4000           Kippy    Oldland  ...       No      11   0\n",
              "\n",
              "[4000 rows x 14 columns]"
            ]
          },
          "metadata": {
            "tags": []
          },
          "execution_count": 12
        }
      ]
    },
    {
      "cell_type": "code",
      "metadata": {
        "id": "TeaIRx_CYbkV",
        "colab_type": "code",
        "colab": {
          "base_uri": "https://localhost:8080/",
          "height": 85
        },
        "outputId": "95c45e73-a674-4390-e2e8-773b0fd64d94"
      },
      "source": [
        "#same index as above\n",
        "ngenage = [0,0,0]\n",
        "j       = 1\n",
        "ss      = 0\n",
        "stdv    = []\n",
        "for each in df['gender']:\n",
        "    if each[0] == \"F\" and df['Age'][j] != 0:\n",
        "        ss   += df['Age'][j]\n",
        "        stdv.append((df['Age'][j]))\n",
        "        ngenage[0] += 1\n",
        "    elif each[0] == \"M\" and df['Age'][j] != 0:\n",
        "        ss += df['Age'][j]\n",
        "        stdv.append((df['Age'][j]))\n",
        "        ngenage[1] += 1\n",
        "    elif df['Age'][j] != 0: \n",
        "        ss += df['Age'][j]\n",
        "        stdv.append((df['Age'][j]))\n",
        "        ngenage[2] += 1\n",
        "    j += 1\n",
        "print(ss)\n",
        "print(ngenage) # as we can see, unknonwn gender will unlikely to have age, don't care about gender U\n",
        "#average age not counting 0 is \n",
        "mean_val = round(ss/sum(ngenage),0)\n",
        "print(mean_val)\n",
        "stdv_val = round(ma.sqrt(1/(sum(ngenage)-1)*sum((stdv - (ss/sum(ngenage)))**2)),0)\n",
        "print(stdv_val)"
      ],
      "execution_count": 13,
      "outputs": [
        {
          "output_type": "stream",
          "text": [
            "166020\n",
            "[2039, 1872, 1]\n",
            "42.0\n",
            "34.0\n"
          ],
          "name": "stdout"
        }
      ]
    },
    {
      "cell_type": "code",
      "metadata": {
        "id": "uU8JliP2YdWX",
        "colab_type": "code",
        "colab": {
          "base_uri": "https://localhost:8080/",
          "height": 34
        },
        "outputId": "5d8d74a5-deaf-49e1-8405-8da99da9c0b2"
      },
      "source": [
        "#pruchases from age 42 - 34/2, 42, 42 + 34/2 \n",
        "age_dict = {}\n",
        "f1  = []\n",
        "bf1 = []\n",
        "f2  = []\n",
        "bf2 = []\n",
        "f3  = []\n",
        "bf3 = []\n",
        "f4  = []\n",
        "bf4 = []\n",
        "m1  = []\n",
        "bm1 = []\n",
        "m2  = []\n",
        "bm2 = []\n",
        "m3  = []\n",
        "bm3 = []\n",
        "m4  = []\n",
        "bm4 = []\n",
        "fq = mean_val - stdv_val/2\n",
        "sq = mean_val\n",
        "tq = mean_val + stdv_val/2\n",
        "print(fq, sq, tq)\n",
        "jjj = 1\n",
        "for each in df['gender']:\n",
        "    temp = int(df['Age'][jjj])\n",
        "    bkt  = int(df['3y_bike_purchases'][jjj])\n",
        "    if each[0] == \"F\" and temp != 0:\n",
        "        if(temp <= fq):\n",
        "            f1.append(temp)\n",
        "            bf1.append(bkt)\n",
        "        elif(fq < temp and temp <= sq):\n",
        "            f2.append(temp)\n",
        "            bf2.append(bkt)\n",
        "        elif(sq < temp and temp <= tq):\n",
        "            f3.append(temp)\n",
        "            bf3.append(bkt)\n",
        "        elif(tq < temp):\n",
        "            f4.append(temp)\n",
        "            bf4.append(bkt)\n",
        "    elif each[0] == \"M\" and temp != 0:\n",
        "        if(temp <= fq):\n",
        "            m1.append(temp)\n",
        "            bm1.append(bkt)\n",
        "        elif(fq < temp and temp <= sq):\n",
        "            m2.append(temp)\n",
        "            bm2.append(bkt)\n",
        "        elif(sq < temp and temp <= tq):\n",
        "            m3.append(temp)\n",
        "            bm3.append(bkt)\n",
        "        elif(tq < temp):\n",
        "            m4.append(temp)\n",
        "            bm4.append(bkt)\n",
        "    jjj += 1\n",
        "dtt = {\"Female1\":f1,\n",
        "       \"Female2\":f2,\n",
        "       \"Female3\":f3,\n",
        "       \"Female4\":f4,\n",
        "       \"Male1\":m1,\n",
        "       \"Male2\":m2,\n",
        "       \"Male3\":m3,\n",
        "       \"Male4\":m4,\n",
        "      }"
      ],
      "execution_count": 14,
      "outputs": [
        {
          "output_type": "stream",
          "text": [
            "25.0 42.0 59.0\n"
          ],
          "name": "stdout"
        }
      ]
    },
    {
      "cell_type": "code",
      "metadata": {
        "id": "XptH7y30YfZu",
        "colab_type": "code",
        "colab": {
          "base_uri": "https://localhost:8080/",
          "height": 51
        },
        "outputId": "b9bf806f-981d-4465-b6e9-4c7365002430"
      },
      "source": [
        "print(len(dtt[\"Female1\"]), len(dtt[\"Female2\"]), len(dtt[\"Female3\"]), len(dtt[\"Female4\"]))\n",
        "print(len(dtt[\"Male1\"]), len(dtt[\"Male2\"]), len(dtt[\"Male3\"]), len(dtt[\"Male4\"]))"
      ],
      "execution_count": 15,
      "outputs": [
        {
          "output_type": "stream",
          "text": [
            "273 775 778 213\n",
            "259 747 653 213\n"
          ],
          "name": "stdout"
        }
      ]
    },
    {
      "cell_type": "code",
      "metadata": {
        "id": "b48rSipkYhu1",
        "colab_type": "code",
        "colab": {
          "base_uri": "https://localhost:8080/",
          "height": 537
        },
        "outputId": "ce6bbb0e-f627-440c-e3f2-9f841dfe6669"
      },
      "source": [
        "graphgen = [len(dtt[\"Female1\"]), len(dtt[\"Male1\"]), len(dtt[\"Female2\"]), len(dtt[\"Male2\"]), len(dtt[\"Female3\"]), len(dtt[\"Male3\"]), len(dtt[\"Female4\"]), len(dtt[\"Male4\"])]\n",
        "colorr = (0.7,0.7,0.7,0.7)\n",
        "\n",
        "x2 = np.arange(8)\n",
        "fig2, ax2 = plt.subplots()\n",
        "ax2.set_ylabel('Number of people')\n",
        "plt.bar(x2, graphgen, color = colorr)\n",
        "for i in range(len(graphgen)):\n",
        "    plt.text(x = i-0.2, y = graphgen[i]+0.1, s = graphgen[i], size = 10)\n",
        "\n",
        "plt.xticks(x2, ('Fq1', \"Mq1\", 'Fq2', \"Mq2\", 'Fq3', \"Mq3\", 'Fq4', \"Mq4\"))"
      ],
      "execution_count": 16,
      "outputs": [
        {
          "output_type": "execute_result",
          "data": {
            "text/plain": [
              "([<matplotlib.axis.XTick at 0x7f684dc5cb70>,\n",
              "  <matplotlib.axis.XTick at 0x7f684dc5cb38>,\n",
              "  <matplotlib.axis.XTick at 0x7f684dc5c780>,\n",
              "  <matplotlib.axis.XTick at 0x7f684dc0de48>,\n",
              "  <matplotlib.axis.XTick at 0x7f684dc13320>,\n",
              "  <matplotlib.axis.XTick at 0x7f684dc137b8>,\n",
              "  <matplotlib.axis.XTick at 0x7f684dc13278>,\n",
              "  <matplotlib.axis.XTick at 0x7f684dc13e48>],\n",
              " [Text(0, 0, 'Fq1'),\n",
              "  Text(0, 0, 'Mq1'),\n",
              "  Text(0, 0, 'Fq2'),\n",
              "  Text(0, 0, 'Mq2'),\n",
              "  Text(0, 0, 'Fq3'),\n",
              "  Text(0, 0, 'Mq3'),\n",
              "  Text(0, 0, 'Fq4'),\n",
              "  Text(0, 0, 'Mq4')])"
            ]
          },
          "metadata": {
            "tags": []
          },
          "execution_count": 16
        },
        {
          "output_type": "display_data",
          "data": {
            "image/png": "[encoded data removed]",
            "text/plain": [
              "<Figure size 432x288 with 1 Axes>"
            ]
          },
          "metadata": {
            "tags": [],
            "needs_background": "light"
          }
        }
      ]
    },
    {
      "cell_type": "code",
      "metadata": {
        "id": "VllXY-eRYjvd",
        "colab_type": "code",
        "colab": {
          "base_uri": "https://localhost:8080/",
          "height": 187
        },
        "outputId": "3b1a5056-be8e-417d-ec32-7150f5f17ddc"
      },
      "source": [
        "df[\"Category\"].value_counts()"
      ],
      "execution_count": 17,
      "outputs": [
        {
          "output_type": "execute_result",
          "data": {
            "text/plain": [
              "Manufacturing         799\n",
              "Financial Services    774\n",
              "Health                602\n",
              "Retail                358\n",
              "Property              267\n",
              "IT                    223\n",
              "Entertainment         136\n",
              "Argiculture           113\n",
              "Telecommunications     72\n",
              "Name: Category, dtype: int64"
            ]
          },
          "metadata": {
            "tags": []
          },
          "execution_count": 17
        }
      ]
    },
    {
      "cell_type": "code",
      "metadata": {
        "id": "QyDZRnExYlVN",
        "colab_type": "code",
        "colab": {
          "base_uri": "https://localhost:8080/",
          "height": 571
        },
        "outputId": "f6d40e30-45e1-458a-d98d-ac3f246f18b3"
      },
      "source": [
        "val = [799, 774, 602, 358, 267, 223, 136, 113, 72]\n",
        "colorr = (0.2,0.3,0.4,0.5)\n",
        "\n",
        "x3 = np.arange(9)\n",
        "fig3, ax3 = plt.subplots()\n",
        "ax3.set_ylabel('Number of people')\n",
        "plt.bar(x3, val, color = colorr, width = 0.5)\n",
        "for i in range(len(val)):\n",
        "    plt.text(x = i-0.25, y = val[i]+0.1, s = val[i], size = 10)\n",
        "\n",
        "plt.xticks(x3, (\"Manu\", \"Finance\", \"Health\", \"Retail\", \"Property\", \"IT\", \"Entertain\", \"Agri\", \"Telecom\"))"
      ],
      "execution_count": 18,
      "outputs": [
        {
          "output_type": "execute_result",
          "data": {
            "text/plain": [
              "([<matplotlib.axis.XTick at 0x7f684dc13630>,\n",
              "  <matplotlib.axis.XTick at 0x7f684dc134a8>,\n",
              "  <matplotlib.axis.XTick at 0x7f684dbb7940>,\n",
              "  <matplotlib.axis.XTick at 0x7f684db7da20>,\n",
              "  <matplotlib.axis.XTick at 0x7f684db7deb8>,\n",
              "  <matplotlib.axis.XTick at 0x7f684db85240>,\n",
              "  <matplotlib.axis.XTick at 0x7f684db856d8>,\n",
              "  <matplotlib.axis.XTick at 0x7f684db85b70>,\n",
              "  <matplotlib.axis.XTick at 0x7f684db8b0b8>],\n",
              " [Text(0, 0, 'Manu'),\n",
              "  Text(0, 0, 'Finance'),\n",
              "  Text(0, 0, 'Health'),\n",
              "  Text(0, 0, 'Retail'),\n",
              "  Text(0, 0, 'Property'),\n",
              "  Text(0, 0, 'IT'),\n",
              "  Text(0, 0, 'Entertain'),\n",
              "  Text(0, 0, 'Agri'),\n",
              "  Text(0, 0, 'Telecom')])"
            ]
          },
          "metadata": {
            "tags": []
          },
          "execution_count": 18
        },
        {
          "output_type": "display_data",
          "data": {
            "image/png": "[encoded data removed]",
            "text/plain": [
              "<Figure size 432x288 with 1 Axes>"
            ]
          },
          "metadata": {
            "tags": [],
            "needs_background": "light"
          }
        }
      ]
    },
    {
      "cell_type": "code",
      "metadata": {
        "id": "qnnL8q1rYovN",
        "colab_type": "code",
        "colab": {
          "base_uri": "https://localhost:8080/",
          "height": 85
        },
        "outputId": "66860441-2e19-4bee-e264-86fc95255be4"
      },
      "source": [
        "check_unique()[\"wealth_segement\"]\n",
        "df[\"wealth_segement\"].value_counts()"
      ],
      "execution_count": 19,
      "outputs": [
        {
          "output_type": "execute_result",
          "data": {
            "text/plain": [
              "Mass Customer        2000\n",
              "High Net Worth       1021\n",
              "Affluent Customer     979\n",
              "Name: wealth_segement, dtype: int64"
            ]
          },
          "metadata": {
            "tags": []
          },
          "execution_count": 19
        }
      ]
    },
    {
      "cell_type": "code",
      "metadata": {
        "id": "aPi6mnm0YrCN",
        "colab_type": "code",
        "colab": {
          "base_uri": "https://localhost:8080/",
          "height": 68
        },
        "outputId": "b2c0e34d-9f47-45aa-cb81-be4860812a6f"
      },
      "source": [
        "#split into 3: M (Mass), H(High), A(Affluent)\n",
        "jjj = 1\n",
        "wsm = {\"q1\":[], \"q2\":[], \"q3\":[], \"q4\":[]}\n",
        "wsh = {\"q1\":[], \"q2\":[], \"q3\":[], \"q4\":[]}\n",
        "wsa = {\"q1\":[], \"q2\":[], \"q3\":[], \"q4\":[]}\n",
        "\n",
        "for each in df['wealth_segement']:\n",
        "    temp = int(df['Age'][jjj])\n",
        "    if each[0] == \"M\" and temp != 0:\n",
        "        if(temp <= fq):\n",
        "            wsm[\"q1\"].append(temp)\n",
        "        elif(fq < temp and temp <= sq):\n",
        "            wsm[\"q2\"].append(temp)\n",
        "        elif(sq < temp and temp <= tq):\n",
        "            wsm[\"q3\"].append(temp)\n",
        "        elif(tq < temp):\n",
        "            wsm[\"q4\"].append(temp)\n",
        "    elif each[0] == \"H\" and temp != 0:\n",
        "        if(temp <= fq):\n",
        "            wsh[\"q1\"].append(temp)\n",
        "        elif(fq < temp and temp <= sq):\n",
        "            wsh[\"q2\"].append(temp)\n",
        "        elif(sq < temp and temp <= tq):\n",
        "            wsh[\"q3\"].append(temp)\n",
        "        elif(tq < temp):\n",
        "            wsh[\"q4\"].append(temp)\n",
        "    elif each[0] == \"A\" and temp != 0:\n",
        "        if(temp <= fq):\n",
        "            wsa[\"q1\"].append(temp)\n",
        "        elif(fq < temp and temp <= sq):\n",
        "            wsa[\"q2\"].append(temp)\n",
        "        elif(sq < temp and temp <= tq):\n",
        "            wsa[\"q3\"].append(temp)\n",
        "        elif(tq < temp):\n",
        "            wsa[\"q3\"].append(temp)\n",
        "    jjj += 1\n",
        "print(len(wsm[\"q1\"]), len(wsm[\"q2\"]), len(wsm[\"q3\"]), len(wsm[\"q4\"]))\n",
        "print(len(wsh[\"q1\"]), len(wsh[\"q2\"]), len(wsh[\"q3\"]), len(wsh[\"q4\"]))\n",
        "print(len(wsa[\"q1\"]), len(wsa[\"q2\"]), len(wsa[\"q3\"]), len(wsa[\"q4\"]))"
      ],
      "execution_count": 20,
      "outputs": [
        {
          "output_type": "stream",
          "text": [
            "261 777 697 219\n",
            "125 399 361 111\n",
            "146 346 470 0\n"
          ],
          "name": "stdout"
        }
      ]
    },
    {
      "cell_type": "code",
      "metadata": {
        "id": "6XoFOlBVYstd",
        "colab_type": "code",
        "colab": {
          "base_uri": "https://localhost:8080/",
          "height": 281
        },
        "outputId": "7668f09f-1e58-4b1c-fa5b-4c731831a1ab"
      },
      "source": [
        "N = 4\n",
        "wsmtp = [len(wsm[\"q1\"]), len(wsm[\"q2\"]), len(wsm[\"q3\"]), len(wsm[\"q4\"])]\n",
        "wshtp = [len(wsh[\"q1\"]), len(wsh[\"q2\"]), len(wsh[\"q3\"]), len(wsh[\"q4\"])]\n",
        "wsatp = [len(wsa[\"q1\"]), len(wsa[\"q2\"]), len(wsa[\"q3\"]), len(wsa[\"q4\"])]\n",
        "\n",
        "bars = np.add(wsmtp, wshtp).tolist()\n",
        "r = [0,1,2,3,4]\n",
        "\n",
        "ind   = np.arange(N) # the x locations for the groups\n",
        "width = 0.35       # the width of the bars: can also be len(x) sequence\n",
        "\n",
        "p1 = plt.bar(ind, wsmtp, width)\n",
        "p2 = plt.bar(ind, wshtp, width,  bottom=wsmtp)\n",
        "p3 = plt.bar(ind, wsatp, width,  bottom=bars)\n",
        "\n",
        "plt.ylabel('Amount of people')\n",
        "plt.title('Wealth segements by ages')\n",
        "plt.xticks(ind, ('q1', 'q2', 'q3', 'q4'))\n",
        "plt.yticks(np.arange(0, 1500, 100))\n",
        "plt.legend((p1[0], p2[0], p3[0]), ('Mass', 'High Net', 'Affluent'))\n",
        "\n",
        "plt.show()"
      ],
      "execution_count": 21,
      "outputs": [
        {
          "output_type": "display_data",
          "data": {
            "image/png": "[encoded data removed]",
            "text/plain": [
              "<Figure size 432x288 with 1 Axes>"
            ]
          },
          "metadata": {
            "tags": [],
            "needs_background": "light"
          }
        }
      ]
    },
    {
      "cell_type": "code",
      "metadata": {
        "id": "W4jjGZcwaQhC",
        "colab_type": "code",
        "colab": {
          "base_uri": "https://localhost:8080/",
          "height": 68
        },
        "outputId": "4f4ecb10-b144-4d03-e722-c4493928da46"
      },
      "source": [
        "df[\"owns_car\"].value_counts()"
      ],
      "execution_count": 22,
      "outputs": [
        {
          "output_type": "execute_result",
          "data": {
            "text/plain": [
              "Yes    2024\n",
              "No     1976\n",
              "Name: owns_car, dtype: int64"
            ]
          },
          "metadata": {
            "tags": []
          },
          "execution_count": 22
        }
      ]
    },
    {
      "cell_type": "code",
      "metadata": {
        "id": "RhzcVQATaWv2",
        "colab_type": "code",
        "colab": {}
      },
      "source": [
        ""
      ],
      "execution_count": null,
      "outputs": []
    }
  ]
}